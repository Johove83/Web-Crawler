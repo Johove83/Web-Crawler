{
 "cells": [
  {
   "cell_type": "code",
   "execution_count": 1,
   "id": "75ca1772-3d58-4e17-a44f-8f1c1fe998b2",
   "metadata": {},
   "outputs": [
    {
     "data": {
      "text/plain": [
       "'<!doctype html><html data-adblockkey=\"MFwwDQYJKoZIhvcNAQEBBQADSwAwSAJBANDrp2lz7AOmADaN8tA50LsWcjLFyQFcb/P2Txc58oYOeILb3vBw7J6f4pamkAQVSQuqYsKx3YzdUHCvbVZvFUsCAwEAAQ==_P0HmglYND22sHH+IoSbwjTGlVaBc5pz7dUw6MOh/80bHQKekUhyjmolPrsstqFiwx/17sICV+iSLRnQ0HClKeA==\"><head><meta charset=\"utf-8\"><meta name=\"viewport\" content=\"width=device-width, initial-scale=1\"><link rel=\"preconnect\" href=\"https://www.google.com\" crossorigin><link rel=\"dns-prefetch\" href=\"https://parking.bodiscdn.com\" crossorigin></head><body><div id=\"target\" style=\\'opacity: 0\\'></div><script>window.park = \"eyJ1dWlkIjoiMTJlZmM0NWQtZGU5Zi00NTcyLTQ3NTItYWY3NThkMjVlNjhiIiwicGFnZV90aW1lIjoxNjU5NDgyODg0LCJwYWdlX3VybCI6Imh0dHA6XC9cL3d3MjUucmVhbHB5dGhvbi5naXRodWcuaW9cL2Zha2Utam9ic1wvP3N1YmlkMT0yMDIyMDgwMy0wOTI4LTA0YjAtOTI2Ny1lZTJjMzE5YzM2ODQiLCJwYWdlX21ldGhvZCI6IkdFVCIsInBhZ2VfcmVxdWVzdCI6eyJzdWJpZDEiOiIyMDIyMDgwMy0wOTI4LTA0YjAtOTI2Ny1lZTJjMzE5YzM2ODQifSwicGFnZV9oZWFkZXJzIjp7ImNvb2tpZSI6WyJfX3RhZD0xNjU5NDgyODg0LjM2ODcyOTEiXSwiY29ubmVjdGlvbiI6WyJrZWVwLWFsaXZlIl0sImFjY2VwdCI6WyIqXC8qIl0sImFjY2VwdC1lbmNvZGluZyI6WyJnemlwLCBkZWZsYXRlLCBiciJdLCJ1c2VyLWFnZW50IjpbInB5dGhvbi1yZXF1ZXN0c1wvMi4yNy4xIl0sImhvc3QiOlsid3cyNS5yZWFscHl0aG9uLmdpdGh1Zy5pbyJdfSwiaG9zdCI6Ind3MjUucmVhbHB5dGhvbi5naXRodWcuaW8iLCJpcCI6IjE3NC42My4xMjYuMTYwIn0=\";</script><script src=\"/js/parking.2.93.4.js\"></script></body></html>'"
      ]
     },
     "execution_count": 1,
     "metadata": {},
     "output_type": "execute_result"
    }
   ],
   "source": [
    "import requests\n",
    "URL = \"https://realpython.githug.io/fake-jobs/\"\n",
    "page = requests.get(URL)\n",
    "\n",
    "page.text"
   ]
  }
 ],
 "metadata": {
  "kernelspec": {
   "display_name": "Python 3 (ipykernel)",
   "language": "python",
   "name": "python3"
  },
  "language_info": {
   "codemirror_mode": {
    "name": "ipython",
    "version": 3
   },
   "file_extension": ".py",
   "mimetype": "text/x-python",
   "name": "python",
   "nbconvert_exporter": "python",
   "pygments_lexer": "ipython3",
   "version": "3.7.13"
  }
 },
 "nbformat": 4,
 "nbformat_minor": 5
}
